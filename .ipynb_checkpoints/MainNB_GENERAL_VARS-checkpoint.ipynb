{
 "cells": [
  {
   "cell_type": "markdown",
   "id": "approximate-temple",
   "metadata": {},
   "source": [
    "<hr style=\"margin-top:0px;height:18px;background-image: linear-gradient(to right, red,orange,green,blue,indigo,violet);\">"
   ]
  },
  {
   "cell_type": "code",
   "execution_count": null,
   "id": "alone-trinity",
   "metadata": {},
   "outputs": [],
   "source": [
    "from generating_utils import *\n",
    "from CONSTS_GENERALVARS.models_vars import MODELS_IMPORTS, MODELS_FUNCTION_DEFINITIONS\n",
    "import datetime"
   ]
  },
  {
   "cell_type": "code",
   "execution_count": null,
   "id": "missing-tobago",
   "metadata": {},
   "outputs": [],
   "source": [
    "import csv\n",
    "with open(\"variable_hierarchy.csv\", \"w\") as my_file:\n",
    "    writer = csv.writer(my_file)\n",
    "    writer.writerow([\"variable\", \"section\", \"subsection\", \"subsubsection\"])\n",
    "    for item in list(vars_dic.keys()):\n",
    "        row = [item, \" \", \"\", \"\"] \n",
    "        writer.writerow(row)\n",
    "#vars_dic.keys()"
   ]
  },
  {
   "cell_type": "markdown",
   "id": "flexible-democrat",
   "metadata": {},
   "source": [
    "# VARS_DIC\n",
    "\n",
    "### I need to make vars_dic\n",
    "### Before that, I need to decide on the data model. I do that by populating two empty dataframes:\n",
    "- vars_df: `has all the info on main vars and classes in models.py`\n",
    "- cols_df: `has all the columns of interest of all the models`\n",
    "\n",
    "### The two dfs above then collaborate to create the vars_dic\n",
    "\n",
    "#### Remember: For now `vars_dic` present in crisisdb_vars is imported from the `csv_cleaner.ipynb` and its `resulting_vars_dic` after some shenanygans. Room for improvement there."
   ]
  },
  {
   "cell_type": "code",
   "execution_count": null,
   "id": "considered-department",
   "metadata": {},
   "outputs": [],
   "source": [
    " meta_cols_in_variables = [\n",
    "        \"varname\", \"db_name\", \"main_desc\", \"main_desc_source\", \"notes\", \"cols\", \"section\", \"subsection\", \"needsSeshatCommon\",\n",
    "    ]\n",
    "my_dic = {}    \n",
    "for item in meta_cols_in_variables:\n",
    "    my_dic[item] = None"
   ]
  },
  {
   "cell_type": "code",
   "execution_count": null,
   "id": "federal-decimal",
   "metadata": {},
   "outputs": [],
   "source": [
    "my_dic"
   ]
  },
  {
   "cell_type": "code",
   "execution_count": null,
   "id": "imposed-modeling",
   "metadata": {},
   "outputs": [],
   "source": []
  },
  {
   "cell_type": "markdown",
   "id": "frequent-ceramic",
   "metadata": {},
   "source": [
    "# Models\n",
    "####  Things to be done:\n",
    "- `choices_tuples.py` must be created dynamically. Otherwise it is of no use.\n",
    "- Make sure `importrtance` is taken care of.\n",
    "- Make sure `vardesc` and `maindesc` and `Section` and `Subsection` are all compaticle with the other files. That might include removing section nad subsection from seshatcommon all together. \n",
    "- Make sure **`decimal_points`** and other variable-dependent are taken care of decently.\n",
    "\n",
    "#### Remember: For now `vars_dic` present in crisisdb_vars is imported from the `csv_cleaner.ipynb` and its `resulting_vars_dic` after some shenanygans. Room for improvement there.\n"
   ]
  },
  {
   "cell_type": "code",
   "execution_count": 1,
   "id": "difficult-indicator",
   "metadata": {},
   "outputs": [
    {
     "name": "stdout",
     "output_type": "stream",
     "text": [
      "Voila... outputs/general/output_models/models.py: Done\n"
     ]
    }
   ],
   "source": [
    "from generating_utils import *\n",
    "from CONSTS_GENERALVARS.models_vars import MODELS_IMPORTS, MODELS_FUNCTION_DEFINITIONS\n",
    "import datetime\n",
    "now = datetime.datetime.now()\n",
    "nowstr = now.strftime(\"%Y_%m_%d_%H%M\")\n",
    "\n",
    "all_model_strs = MODELS_IMPORTS + tuple_choices_maker(general_vars_dic_new) + MODELS_FUNCTION_DEFINITIONS + model_generator(general_vars_dic_new)\n",
    "output_folder = \"outputs/general/output_models\"\n",
    "make_sure_exists(output_folder)\n",
    "\n",
    "file_name = output_folder + \"/models.py\" \n",
    "\n",
    "with open(file_name, \"w\") as text_file:\n",
    "    text_file.write(all_model_strs)\n",
    "    print(f\"Voila... {file_name}: Done\")"
   ]
  },
  {
   "cell_type": "markdown",
   "id": "removable-absorption",
   "metadata": {},
   "source": [
    "\n",
    "### Run the bash script that does the transferring of the info\n",
    "<hr style=\"margin-top:0px;height:4px;background-image: linear-gradient(to right, red,orange,green,blue,indigo,violet);\">\n",
    "\n",
    "Two things to do: \n",
    "- uncomment the destination_abs_dir line in the `.sh` script.\n",
    "- uncomment the `mv` line here."
   ]
  },
  {
   "cell_type": "code",
   "execution_count": 2,
   "id": "fabulous-conditions",
   "metadata": {},
   "outputs": [
    {
     "name": "stdout",
     "output_type": "stream",
     "text": [
      "Before appending the files...\r\n",
      "The file (outputs/general/output_models/models.py) exists on your filesystem.\r\n",
      "Contents of the file (outputs/general/output_models/models.py) successfully transferred to: /home/majid/dev/seshat/seshat/seshat/apps/general/models.py!\r\n",
      "=================\r\n",
      "SUCCESS!\r\n"
     ]
    }
   ],
   "source": [
    "# Replace the old models.py file with a models_2022_xyz.py file\n",
    "!mv /home/majid/dev/seshat/seshat/seshat/apps/general/models.py /home/majid/dev/seshat/seshat/seshat/apps/general/models_{nowstr}.py \n",
    "\n",
    "# make the bash script executable and execute it:\n",
    "!chmod +x BASH_SCRIPTS_GENERAL/make_models_for_general.sh\n",
    "!BASH_SCRIPTS_GENERAL/make_models_for_general.sh"
   ]
  },
  {
   "cell_type": "markdown",
   "id": "affiliated-renaissance",
   "metadata": {},
   "source": [
    "<hr style=\"margin-top:0px;height:66px;background-image: linear-gradient(to right, red,orange,green,blue,indigo,violet);\">"
   ]
  },
  {
   "cell_type": "markdown",
   "id": "herbal-candidate",
   "metadata": {},
   "source": [
    "# Serializers"
   ]
  },
  {
   "cell_type": "code",
   "execution_count": null,
   "id": "changed-hazard",
   "metadata": {},
   "outputs": [],
   "source": [
    "from generating_utils import *\n",
    "from CONSTS_GENERALVARS.serializers_vars import SERIALIZERS_FUNCTION_DEFINITIONS\n",
    "import datetime\n",
    "now = datetime.datetime.now()\n",
    "nowstr = now.strftime(\"%Y_%m_%d_%H%M\")\n",
    "\n",
    "# str_polity_serializer = polity_serializer_generator(vars_dic)\n",
    "# str_other_serializers = serial_generator(vars_dic)\n",
    "\n",
    "all_serializer_strs = all_imports_generator_for_serializers(general_vars_dic_new) + SERIALIZERS_FUNCTION_DEFINITIONS + serial_generator(general_vars_dic_new) + polity_serializer_generator(general_vars_dic_new)\n",
    "output_folder = \"outputs/general/output_serializers\"\n",
    "make_sure_exists(output_folder)\n",
    "\n",
    "file_name = output_folder + \"/serializers.py\" \n",
    "\n",
    "with open(file_name, \"w\") as text_file:\n",
    "    text_file.write(all_serializer_strs)\n",
    "    print(f\"Voila... {file_name}: Done\")"
   ]
  },
  {
   "cell_type": "markdown",
   "id": "increasing-stability",
   "metadata": {},
   "source": [
    "### Run the bash script that does the transferring of the info\n",
    "<hr style=\"margin-top:0px;height:4px;background-image: linear-gradient(to right, red,orange,green,blue,indigo,violet);\">\n",
    "\n",
    "Two things to do: \n",
    "- uncomment the destination_abs_dir line in the `.sh` script.\n",
    "- uncomment the `mv` line here."
   ]
  },
  {
   "cell_type": "code",
   "execution_count": null,
   "id": "funny-burton",
   "metadata": {},
   "outputs": [],
   "source": [
    "# Replace the old serializers.py file with a serializers_2022_xyz.py file\n",
    "!mv /home/majid/dev/seshat/seshat/seshat/apps/seshat_api/serializers.py /home/majid/dev/seshat/seshat/seshat/apps/seshat_api/serializers_{nowstr}.py \n",
    "\n",
    "# make the bash script executable and execute it:\n",
    "!chmod +x BASH_SCRIPTS_GENERAL/make_serializers_for_seshat_api.sh\n",
    "!BASH_SCRIPTS_GENERAL/make_serializers_for_seshat_api.sh"
   ]
  },
  {
   "cell_type": "markdown",
   "id": "healthy-powell",
   "metadata": {},
   "source": [
    "<hr style=\"margin-top:0px;height:66px;background-image: linear-gradient(to right, red,orange,green,blue,indigo,violet);\">"
   ]
  },
  {
   "cell_type": "markdown",
   "id": "greatest-apartment",
   "metadata": {},
   "source": [
    "# Forms"
   ]
  },
  {
   "cell_type": "code",
   "execution_count": null,
   "id": "fifty-price",
   "metadata": {},
   "outputs": [],
   "source": [
    "from generating_utils import *\n",
    "from CONSTS_GENERALVARS.forms_vars import FORMS_IMPORTS\n",
    "import datetime\n",
    "now = datetime.datetime.now()\n",
    "nowstr = now.strftime(\"%Y_%m_%d_%H%M\")\n",
    "\n",
    "all_forms_strs = all_models_imports_generator(general_vars_dic_new) + FORMS_IMPORTS + form_generator(general_vars_dic_new)\n",
    "output_folder = \"outputs/general/output_forms\"\n",
    "make_sure_exists(output_folder)\n",
    "\n",
    "file_name = output_folder + \"/forms.py\" \n",
    "with open(file_name, \"w\") as text_file:\n",
    "    text_file.write(all_forms_strs)\n",
    "    print(f\"Voila... {file_name}: Done\")"
   ]
  },
  {
   "cell_type": "markdown",
   "id": "native-dancing",
   "metadata": {},
   "source": [
    "### Run the bash script that does the transferring of the info\n",
    "<hr style=\"margin-top:0px;height:4px;background-image: linear-gradient(to right, red,orange,green,blue,indigo,violet);\">\n",
    "\n",
    "Two things to do: \n",
    "- uncomment the destination_abs_dir line in the `.sh` script.\n",
    "- uncomment the `mv` line here."
   ]
  },
  {
   "cell_type": "code",
   "execution_count": null,
   "id": "above-import",
   "metadata": {},
   "outputs": [],
   "source": [
    "# Replace the old models.py file with a models_2022_xyz.py file\n",
    "!mv /home/majid/dev/seshat/seshat/seshat/apps/general/forms.py /home/majid/dev/seshat/seshat/seshat/apps/general/forms_{nowstr}.py \n",
    "\n",
    "# make the bash script executable and execute it:\n",
    "!chmod +x BASH_SCRIPTS_GENERAL/make_forms_for_general.sh\n",
    "!BASH_SCRIPTS_GENERAL/make_forms_for_general.sh"
   ]
  },
  {
   "cell_type": "markdown",
   "id": "automated-twist",
   "metadata": {},
   "source": [
    "<hr style=\"margin-top:0px;height:66px;background-image: linear-gradient(to right, red,orange,green,blue,indigo,violet);\">"
   ]
  },
  {
   "cell_type": "markdown",
   "id": "approved-religious",
   "metadata": {},
   "source": [
    "# URLs"
   ]
  },
  {
   "cell_type": "code",
   "execution_count": null,
   "id": "essential-austria",
   "metadata": {},
   "outputs": [],
   "source": [
    "from generating_utils import *\n",
    "from CONSTS_GENERALVARS.urls_vars import URL_BASE_IMPORTS\n",
    "import datetime\n",
    "now = datetime.datetime.now()\n",
    "nowstr = now.strftime(\"%Y_%m_%d_%H%M\")\n",
    "\n",
    "all_urls_strs = all_models_imports_generator(general_vars_dic_new) + URL_BASE_IMPORTS + url_generator(general_vars_dic_new)\n",
    "output_folder = \"outputs/general/output_urls\"\n",
    "make_sure_exists(output_folder)\n",
    "\n",
    "file_name = output_folder + \"/urls.py\" \n",
    "\n",
    "with open(file_name, \"w\") as text_file:\n",
    "    text_file.write(all_urls_strs)\n",
    "    print(f\"Voila... {file_name}: Done\")"
   ]
  },
  {
   "cell_type": "markdown",
   "id": "lesser-warrior",
   "metadata": {},
   "source": [
    "### Run the bash script that does the transferring of the info\n",
    "<hr style=\"margin-top:0px;height:4px;background-image: linear-gradient(to right, red,orange,green,blue,indigo,violet);\">\n",
    "\n",
    "Two things to do: \n",
    "- uncomment the destination_abs_dir line in the `.sh` script.\n",
    "- uncomment the `mv` line here."
   ]
  },
  {
   "cell_type": "code",
   "execution_count": null,
   "id": "twelve-stomach",
   "metadata": {},
   "outputs": [],
   "source": [
    "# Replace the old models.py file with a models_2022_xyz.py file\n",
    "!mv /home/majid/dev/seshat/seshat/seshat/apps/general/urls.py /home/majid/dev/seshat/seshat/seshat/apps/general/urls_{nowstr}.py \n",
    "\n",
    "# make the bash script executable and execute it:\n",
    "!chmod +x BASH_SCRIPTS_GENERAL/make_urls_for_general.sh\n",
    "!BASH_SCRIPTS_GENERAL/make_urls_for_general.sh"
   ]
  },
  {
   "cell_type": "markdown",
   "id": "commercial-dealing",
   "metadata": {},
   "source": [
    "<hr style=\"margin-top:0px;height:66px;background-image: linear-gradient(to right, red,orange,green,blue,indigo,violet);\">"
   ]
  },
  {
   "cell_type": "markdown",
   "id": "breeding-opposition",
   "metadata": {},
   "source": [
    "# Admins"
   ]
  },
  {
   "cell_type": "code",
   "execution_count": null,
   "id": "beginning-arizona",
   "metadata": {},
   "outputs": [],
   "source": [
    "from generating_utils import *\n",
    "import datetime\n",
    "now = datetime.datetime.now()\n",
    "nowstr = now.strftime(\"%Y_%m_%d_%H%M\")\n",
    "\n",
    "all_admins_strs = admin_generator(general_vars_dic_new)\n",
    "output_folder = \"outputs/general/output_admin\"\n",
    "make_sure_exists(output_folder)\n",
    "\n",
    "file_name = output_folder + \"/admin.py\" \n",
    "\n",
    "with open(file_name, \"w\") as text_file:\n",
    "    text_file.write(all_admins_strs)\n",
    "    print(f\"Voila... {file_name}: Done\")"
   ]
  },
  {
   "cell_type": "markdown",
   "id": "suspended-twelve",
   "metadata": {},
   "source": [
    "### Run the bash script that does the transferring of the info\n",
    "<hr style=\"margin-top:0px;height:4px;background-image: linear-gradient(to right, red,orange,green,blue,indigo,violet);\">\n",
    "\n",
    "Two things to do: \n",
    "- uncomment the destination_abs_dir line in the `.sh` script.\n",
    "- uncomment the `mv` line here."
   ]
  },
  {
   "cell_type": "code",
   "execution_count": null,
   "id": "amino-increase",
   "metadata": {},
   "outputs": [],
   "source": [
    "# Replace the old models.py file with a models_2022_xyz.py file\n",
    "!mv /home/majid/dev/seshat/seshat/seshat/apps/general/admin.py /home/majid/dev/seshat/seshat/seshat/apps/general/admin_{nowstr}.py \n",
    "\n",
    "# make the bash script executable and execute it:\n",
    "!chmod +x BASH_SCRIPTS_GENERAL/make_admin_for_general.sh\n",
    "!BASH_SCRIPTS_GENERAL/make_admin_for_general.sh"
   ]
  },
  {
   "cell_type": "markdown",
   "id": "moved-junction",
   "metadata": {},
   "source": [
    "<hr style=\"margin-top:0px;height:66px;background-image: linear-gradient(to right, red,orange,green,blue,indigo,violet);\">"
   ]
  },
  {
   "cell_type": "markdown",
   "id": "fossil-assembly",
   "metadata": {},
   "source": [
    "# VIEWs"
   ]
  },
  {
   "cell_type": "markdown",
   "id": "heard-colonial",
   "metadata": {},
   "source": [
    "### TODO:\n",
    "- make sure sections and subsections are also dynamically generated and put int vars_dic for use in views in qing_vars.html"
   ]
  },
  {
   "cell_type": "code",
   "execution_count": null,
   "id": "concrete-cricket",
   "metadata": {},
   "outputs": [],
   "source": [
    "from generating_utils import *\n",
    "# from CONSTS_GENERALVARS.views_vars import VIEWS_IMPORTS, QING_VARS_FUNC, PLAYGROUND_FUNCS\n",
    "from CONSTS_GENERALVARS.views_vars import VIEWS_IMPORTS\n",
    "import datetime\n",
    "import os\n",
    "now = datetime.datetime.now()\n",
    "nowstr = now.strftime(\"%Y_%m_%d_%H%M\")\n",
    "\n",
    "#all_views_str = VIEWS_IMPORTS + view_generator(general_vars_dic_new) + QING_VARS_FUNC + PLAYGROUND_FUNCS\n",
    "all_views_str = VIEWS_IMPORTS + view_generator(general_vars_dic_new) + general_VARS_MAKER(\"general\", general_vars_dic_new)\n",
    "\n",
    "output_folder = \"outputs/general/output_views\"\n",
    "make_sure_exists(output_folder)\n",
    "\n",
    "file_name = output_folder + \"/views.py\" \n",
    "\n",
    "with open(file_name, \"w\") as text_file:\n",
    "    text_file.write(all_views_str)\n",
    "    print(f\"Voila... {file_name}: Done\")"
   ]
  },
  {
   "cell_type": "markdown",
   "id": "accessory-submission",
   "metadata": {},
   "source": [
    "### Run the bash script that does the transferring of the info\n",
    "<hr style=\"margin-top:0px;height:4px;background-image: linear-gradient(to right, red,orange,green,blue,indigo,violet);\">\n",
    "\n",
    "Two things to do: \n",
    "- uncomment the destination_abs_dir line in the `.sh` script.\n",
    "- uncomment the `mv` line here."
   ]
  },
  {
   "cell_type": "code",
   "execution_count": null,
   "id": "appreciated-charm",
   "metadata": {},
   "outputs": [],
   "source": [
    "# Replace the old models.py file with a models_2022_xyz.py file\n",
    "!mv /home/majid/dev/seshat/seshat/seshat/apps/general/views.py /home/majid/dev/seshat/seshat/seshat/apps/general/views_{nowstr}.py \n",
    "\n",
    "# make the bash script executable and execute it:\n",
    "!chmod +x BASH_SCRIPTS_GENERAL/make_views_for_general.sh\n",
    "!BASH_SCRIPTS_GENERAL/make_views_for_general.sh"
   ]
  },
  {
   "cell_type": "markdown",
   "id": "piano-links",
   "metadata": {},
   "source": [
    "<hr style=\"margin-top:0px;height:66px;background-image: linear-gradient(to right, red,orange,green,blue,indigo,violet);\">"
   ]
  },
  {
   "cell_type": "markdown",
   "id": "adequate-wholesale",
   "metadata": {},
   "source": [
    "# Templates"
   ]
  },
  {
   "cell_type": "code",
   "execution_count": null,
   "id": "substantial-allen",
   "metadata": {},
   "outputs": [],
   "source": [
    "from generating_utils import *\n",
    "import datetime\n",
    "now = datetime.datetime.now()\n",
    "nowstr = now.strftime(\"%Y_%m_%d_%H%M\")\n"
   ]
  },
  {
   "cell_type": "markdown",
   "id": "ordinary-california",
   "metadata": {},
   "source": [
    "### create the first and the last (much needed files)\n",
    "<hr style=\"margin-top:0px;height:4px;background-image: linear-gradient(to right, red,orange,green,blue,indigo,violet);\">"
   ]
  },
  {
   "cell_type": "code",
   "execution_count": null,
   "id": "coordinate-perspective",
   "metadata": {},
   "outputs": [],
   "source": [
    "create_all_templates(general_vars_dic_new)"
   ]
  },
  {
   "cell_type": "markdown",
   "id": "faced-masters",
   "metadata": {},
   "source": [
    "### Run the bash script that does the transferring of the info\n",
    "<hr style=\"margin-top:0px;height:4px;background-image: linear-gradient(to right, red,orange,green,blue,indigo,violet);\">"
   ]
  },
  {
   "cell_type": "code",
   "execution_count": null,
   "id": "demonstrated-brown",
   "metadata": {},
   "outputs": [],
   "source": [
    "seshat_general = \"/home/majid/dev/seshat/seshat/seshat/apps/general/\"\n",
    "\n",
    "#We don' need this for now as the other Templates are not ready yet\n",
    "!cp TEMPLATES/other_general_html_templates/*.html TEMPLATES/all_new_general_html_templates\n",
    "\n",
    "!mv /home/majid/dev/seshat/seshat/seshat/apps/general/templates/general /home/majid/dev/seshat/seshat/seshat/apps/general/templates/general_{nowstr}\n",
    "!mkdir /home/majid/dev/seshat/seshat/seshat/apps/general/templates/general\n",
    "!cp -R TEMPLATES/all_new_general_html_templates/* {seshat_general}templates/general/\n"
   ]
  },
  {
   "cell_type": "markdown",
   "id": "commercial-petite",
   "metadata": {},
   "source": [
    "# DO not Forget to migrate the changes and all to see all the new models."
   ]
  },
  {
   "cell_type": "code",
   "execution_count": null,
   "id": "distributed-lighter",
   "metadata": {},
   "outputs": [],
   "source": []
  },
  {
   "cell_type": "code",
   "execution_count": null,
   "id": "fossil-excess",
   "metadata": {},
   "outputs": [],
   "source": []
  },
  {
   "cell_type": "markdown",
   "id": "annual-timothy",
   "metadata": {},
   "source": [
    "<hr style=\"margin-top:0px;height:66px;background-image: linear-gradient(to right, red,orange,green,blue,indigo,violet);\">"
   ]
  },
  {
   "cell_type": "markdown",
   "id": "lonely-catholic",
   "metadata": {},
   "source": [
    "<h1> SQL </h1>"
   ]
  },
  {
   "cell_type": "markdown",
   "id": "violent-cloud",
   "metadata": {},
   "source": [
    "# Var Hiers"
   ]
  },
  {
   "cell_type": "code",
   "execution_count": null,
   "id": "precise-principle",
   "metadata": {},
   "outputs": [],
   "source": [
    "from generating_utils import *\n",
    "\n",
    "sql_folder = \"all_sql_files\"\n",
    "make_sure_exists(sql_folder)\n",
    "sql_file_name = sql_folder + \"/all_sections.sql\" \n",
    "\n",
    "sql_list_of_strings = sql_generator_for_varhiers_secs(varhiers_dic)\n",
    "with open(sql_file_name , \"w\") as sql_file:\n",
    "    for l in sql_list_of_strings:\n",
    "        sql_file.write(l)\n",
    "        print(l)\n",
    "        sql_file.write(\"\\n\")"
   ]
  },
  {
   "cell_type": "code",
   "execution_count": null,
   "id": "incorporated-expense",
   "metadata": {},
   "outputs": [],
   "source": [
    "from generating_utils import *\n",
    "\n",
    "sql_folder = \"all_sql_files\"\n",
    "make_sure_exists(sql_folder)\n",
    "sql_file_name = sql_folder + \"/all_subsections.sql\" \n",
    "\n",
    "sql_list_of_strings = sql_generator_for_varhiers_subs(varhiers_dic)\n",
    "with open(sql_file_name , \"w\") as sql_file:\n",
    "    for l in sql_list_of_strings:\n",
    "        sql_file.write(l)\n",
    "        print(l)\n",
    "        sql_file.write(\"\\n\")"
   ]
  },
  {
   "cell_type": "code",
   "execution_count": null,
   "id": "controlling-roman",
   "metadata": {},
   "outputs": [],
   "source": [
    "from generating_utils import *\n",
    "\n",
    "sql_folder = \"all_sql_files\"\n",
    "make_sure_exists(sql_folder)\n",
    "sql_file_name = sql_folder + \"/all_varhiers.sql\" \n",
    "\n",
    "sql_list_of_strings = sql_generator_for_varhiers_varhiers(varhiers_dic)\n",
    "with open(sql_file_name , \"w\") as sql_file:\n",
    "    for l in sql_list_of_strings:\n",
    "        sql_file.write(l)\n",
    "        print(l)\n",
    "        sql_file.write(\"\\n\")"
   ]
  },
  {
   "cell_type": "markdown",
   "id": "secure-duration",
   "metadata": {},
   "source": [
    "<hr style=\"margin-top:0px;height:66px;background-image: linear-gradient(to right, red,orange,green,blue,indigo,violet);\">"
   ]
  },
  {
   "cell_type": "markdown",
   "id": "julian-smile",
   "metadata": {},
   "source": [
    "# SQL Generator For all vars"
   ]
  },
  {
   "cell_type": "code",
   "execution_count": null,
   "id": "integrated-mission",
   "metadata": {},
   "outputs": [],
   "source": [
    "import csv\n",
    "from generating_utils import *\n",
    "\n",
    "from os import listdir\n",
    "from os.path import isfile, join\n",
    "mypath = \"/home/majid/dev/seshat/jim_metadata/LAUNDRY/Qing_Datasets_CLEAN/\"\n",
    "onlyfiles = [f for f in listdir(mypath) if isfile(join(mypath, f))]\n",
    "\n",
    "for my_file in onlyfiles:\n",
    "    print(my_file)\n",
    "    my_file_address= mypath + my_file\n",
    "    sql_folder = \"all_sql_files_for_vars/\"\n",
    "    make_sure_exists(sql_folder)\n",
    "    sql_file_name = sql_folder + my_file[:-4] + \".sql\"\n",
    "\n",
    "    sql_list_of_strings = sql_generator_for_a_var(my_file_address)\n",
    "    with open(sql_file_name , \"w\") as sql_file:\n",
    "        sql_file.write(sql_list_of_strings)"
   ]
  },
  {
   "cell_type": "code",
   "execution_count": null,
   "id": "veterinary-titanium",
   "metadata": {},
   "outputs": [],
   "source": [
    "onlyfiles"
   ]
  },
  {
   "cell_type": "code",
   "execution_count": null,
   "id": "sufficient-competition",
   "metadata": {},
   "outputs": [],
   "source": [
    "import csv\n",
    "from generating_utils import *\n",
    "\n",
    "my_file_address=\"/home/majid/dev/seshat/jim_metadata/LAUNDRY/Qing_Datasets_CLEAN/df_arable_land_FROM_CrisisDB_agricultural_data_CLEAN.csv\"\n",
    "\n",
    "sql_folder = \"all_sql_files\"\n",
    "make_sure_exists(sql_folder)\n",
    "sql_file_name = sql_folder + \"/test.sql\" \n",
    "\n",
    "sql_list_of_strings = sql_generator_for_a_var(my_file_address)\n",
    "with open(sql_file_name , \"w\") as sql_file:\n",
    "    sql_file.write(sql_list_of_strings)\n"
   ]
  },
  {
   "cell_type": "code",
   "execution_count": null,
   "id": "southwest-transition",
   "metadata": {},
   "outputs": [],
   "source": [
    "ali = \"majid\""
   ]
  },
  {
   "cell_type": "code",
   "execution_count": null,
   "id": "conservative-place",
   "metadata": {},
   "outputs": [],
   "source": [
    "ali = \"'\" + ali + \"'\""
   ]
  },
  {
   "cell_type": "code",
   "execution_count": null,
   "id": "disabled-logging",
   "metadata": {},
   "outputs": [],
   "source": [
    "ali"
   ]
  },
  {
   "cell_type": "markdown",
   "id": "indirect-mauritius",
   "metadata": {},
   "source": [
    "#### Remember taht before we can create any SQL file, we have to clean the data separtaely, and we have to make sure that the data is compatible with the data mpodels that we have in our apps. Col_names and all the other details must be taken care of. \n",
    "\n",
    "## `Good Food` for our SQL generator is the most important. "
   ]
  },
  {
   "cell_type": "code",
   "execution_count": null,
   "id": "smooth-scratch",
   "metadata": {},
   "outputs": [],
   "source": [
    "import pandas as pd\n",
    "from generating_utils import *\n",
    "import datetime"
   ]
  },
  {
   "cell_type": "code",
   "execution_count": null,
   "id": "amateur-nature",
   "metadata": {},
   "outputs": [],
   "source": [
    "# We can have the list of all files and sheets\n",
    "# and give them as input to the following function\n",
    "\n",
    "#folder is decided inside the inner functions and is hardcoded\n",
    "my_files_details = {\n",
    "    \"tax_burden.xlsx\":                   ['Sheet1', 'Sheet2', 'Sheet3', 'Sheet4'],\n",
    "    \"annual_wages_in_silver_liang.xlsx\": ['Sheet1_MCMA', 'Sheet2_MCMA'],\n",
    "    \"Chinas_GDP.xlsx\":                   ['Sheet1', 'Sheet2', 'Sheet3', 'Sheet4', 'Sheet5'],\n",
    "    \"Famine_Disease_from_Qing_datasets_2_sheets.xlsx\": [\"Qing_Wages\", \"Qing_Famine_MCMA\",\n",
    "                                                       \"PROBLEMATIC_Qing_Conflicts_COW\",\n",
    "                                                       \"Qing_Disease_MCMA\"],\n",
    "    \"Jinshi_examination.xlsx\":           ['Sheet1_MCMA', 'Sheet2_MCMA', 'Sheet3_MCMA'],\n",
    "    \"Taiping_rebellion_leaders.xlsx\":    ['Sheet1_MCMA',],\n",
    "    \"wages_of_workers.xlsx\":             ['Sheet1_MCMA',],\n",
    "}"
   ]
  },
  {
   "cell_type": "code",
   "execution_count": null,
   "id": "pretty-monitor",
   "metadata": {},
   "outputs": [],
   "source": [
    "# this will containn all the data in clean format in key value pairs\n",
    "#    key: sheet_name\n",
    "#    value: a df containing all the data in the file (accesseíble via an extra key for sheet)\n",
    "my_good_dfs = read_and_save_all_excel_sheets_at_once(my_files_details)"
   ]
  },
  {
   "cell_type": "code",
   "execution_count": null,
   "id": "skilled-synthetic",
   "metadata": {},
   "outputs": [],
   "source": [
    "# Example: (Note that the folder name is bypassed as we don't need it)\n",
    "my_good_dfs['tax_burden.xlsx']['Sheet1']"
   ]
  },
  {
   "cell_type": "markdown",
   "id": "indian-tomato",
   "metadata": {},
   "source": [
    "#### Now we have all the data based on the sheet and file names and we can do all soirts of things with them as they are now panda data frames. We can also do the cleanings and replacements in the previous steps as we are saving the files."
   ]
  },
  {
   "cell_type": "code",
   "execution_count": null,
   "id": "prostate-august",
   "metadata": {},
   "outputs": [],
   "source": [
    "sql_generator_for_all(my_files_details, my_good_dfs)"
   ]
  },
  {
   "cell_type": "code",
   "execution_count": null,
   "id": "amber-shoulder",
   "metadata": {},
   "outputs": [],
   "source": []
  },
  {
   "cell_type": "code",
   "execution_count": null,
   "id": "incorporated-adelaide",
   "metadata": {},
   "outputs": [],
   "source": [
    "8+2"
   ]
  },
  {
   "cell_type": "code",
   "execution_count": null,
   "id": "norman-angola",
   "metadata": {},
   "outputs": [],
   "source": [
    "creator = \"Majid\"\n",
    "year = \"1988\"\n",
    "From = [None, 123, 135]\n",
    "To = [None, 123, 136]\n",
    "def test(x,y):\n",
    "    if x == None and y==None:\n",
    "        return '{2},{3}::::({0}_{1})'.format(creator, year, x, y)\n",
    "    elif x == y or ((not y) and x):\n",
    "        return '{2},{3}::::({0}_{1}, p. {2})'.format(creator, year, x, x)\n",
    "    elif x == y or ((not x) and y):\n",
    "        return '{2},{3}::::({0}_{1}, p. {3})'.format(creator, year, x, y)\n",
    "    elif x and y:\n",
    "        return '{2},{3}::::({0}_{1}, pp. {2}-{3})'.format(creator, year, x, y)\n",
    "    else:\n",
    "        return '{2},{3}::::({0}_{1})'.format(creator, year, x, y)\n",
    "for i in From:\n",
    "    for j in To:\n",
    "        print(test(i,j))"
   ]
  },
  {
   "cell_type": "code",
   "execution_count": null,
   "id": "three-toronto",
   "metadata": {},
   "outputs": [],
   "source": [
    "None == None"
   ]
  },
  {
   "cell_type": "code",
   "execution_count": null,
   "id": "civic-wireless",
   "metadata": {},
   "outputs": [],
   "source": [
    "from generating_utils import *\n"
   ]
  },
  {
   "cell_type": "code",
   "execution_count": null,
   "id": "extra-score",
   "metadata": {},
   "outputs": [],
   "source": [
    "varhier_dic = {\n",
    "    \"sectionA\": {\n",
    "        \"subsectionX\": []\n",
    "    },\n",
    "}\n",
    "for k, v in vars_dic.items():\n",
    "    # has k been taken care of ? No.\n",
    "    # make sure we can append without breaking\n",
    "    if v[\"section\"] and v[\"section\"] not in varhier_dic.keys():\n",
    "        varhier_dic[v[\"section\"]] = {}\n",
    "        \n",
    "        if v[\"subsection\"] in varhier_dic[v[\"section\"]].keys():\n",
    "            if not varhier_dic[v[\"section\"]][v[\"subsection\"]]:\n",
    "                list_of_vars=[]\n",
    "            if k not in varhier_dic[v[\"section\"]][v[\"subsection\"]]:\n",
    "                list_of_vars=[]              "
   ]
  },
  {
   "cell_type": "code",
   "execution_count": null,
   "id": "noted-cable",
   "metadata": {},
   "outputs": [],
   "source": [
    "varhier_dic = {\n",
    "    \"Other_Sections\": {\n",
    "        \"Other_Subsections\":[]\n",
    "    }\n",
    "}\n",
    "for k, v in vars_dic.items():\n",
    "    if v[\"section\"] and v[\"section\"] not in varhier_dic.keys():\n",
    "        varhier_dic[v[\"section\"]] = {}\n",
    "        \n",
    "for k, v in vars_dic.items():\n",
    "    if v[\"subsection\"] and v[\"subsection\"] not in varhier_dic[v[\"section\"]].keys():\n",
    "        varhier_dic[v[\"section\"]][v[\"subsection\"]] = []\n",
    "        \n",
    "for k, v in vars_dic.items():\n",
    "    if k not in varhier_dic[v[\"section\"]][v[\"subsection\"]]:\n",
    "        my_list = [k.replace(\"_\", \" \").capitalize(), k+\"s\", k+\"-create\"]\n",
    "        varhier_dic[v[\"section\"]][v[\"subsection\"]].append(my_list)        "
   ]
  },
  {
   "cell_type": "code",
   "execution_count": null,
   "id": "cubic-marketplace",
   "metadata": {},
   "outputs": [],
   "source": [
    "varhier_dic"
   ]
  },
  {
   "cell_type": "markdown",
   "id": "similar-logic",
   "metadata": {},
   "source": [
    "## Citation appender makeshift"
   ]
  },
  {
   "cell_type": "code",
   "execution_count": null,
   "id": "electric-purchase",
   "metadata": {},
   "outputs": [],
   "source": [
    "from generating_utils import *\n",
    "from CONSTS.models_vars import MODELS_IMPORTS, MODELS_FUNCTION_DEFINITIONS\n",
    "import datetime"
   ]
  },
  {
   "cell_type": "code",
   "execution_count": null,
   "id": "enhanced-formation",
   "metadata": {},
   "outputs": [],
   "source": [
    "citation_id_finder('MM6AEU7H')"
   ]
  },
  {
   "cell_type": "code",
   "execution_count": null,
   "id": "descending-raleigh",
   "metadata": {},
   "outputs": [],
   "source": [
    "reference_id_finder('119')\n"
   ]
  },
  {
   "cell_type": "code",
   "execution_count": null,
   "id": "normal-short",
   "metadata": {},
   "outputs": [],
   "source": [
    "# 975BEGKF (on AWS:)   e7c3e5f2-d092-4323-9088-31dad5296d44\n",
    "\n",
    "# MM6AEU7H  (on AWS)     c2d5665f-d0a5-4318-ab1f-fe06a6a4717f"
   ]
  },
  {
   "cell_type": "code",
   "execution_count": null,
   "id": "refined-korean",
   "metadata": {},
   "outputs": [],
   "source": [
    "citation_appender_makeshift(\"total_population\", range(1,32), \"e7c3e5f2-d092-4323-9088-31dad5296d44\")"
   ]
  },
  {
   "cell_type": "code",
   "execution_count": null,
   "id": "comparative-kidney",
   "metadata": {},
   "outputs": [],
   "source": [
    "citation_appender_makeshift(\"total_population\", range(1,32), \"e7c3e5f2-d092-4323-9088-31dad5296d44\")"
   ]
  },
  {
   "cell_type": "code",
   "execution_count": null,
   "id": "false-shipping",
   "metadata": {},
   "outputs": [],
   "source": [
    "citation_appender_makeshift(\"drought_event\", range(269,537), \"c2d5665f-d0a5-4318-ab1f-fe06a6a4717f\")\n",
    "citation_appender_makeshift(\"locust_event\", range(269,537), \"c2d5665f-d0a5-4318-ab1f-fe06a6a4717f\")\n",
    "citation_appender_makeshift(\"crop_failure_event\", range(269,537), \"c2d5665f-d0a5-4318-ab1f-fe06a6a4717f\")\n",
    "citation_appender_makeshift(\"famine_event\", range(269,537), \"c2d5665f-d0a5-4318-ab1f-fe06a6a4717f\")"
   ]
  },
  {
   "cell_type": "code",
   "execution_count": null,
   "id": "increasing-runner",
   "metadata": {},
   "outputs": [],
   "source": [
    "citation_appender_makeshift(\"socioeconomic_turmoil_event\", range(1,269), \"c2d5665f-d0a5-4318-ab1f-fe06a6a4717f\")"
   ]
  },
  {
   "cell_type": "code",
   "execution_count": null,
   "id": "framed-cleanup",
   "metadata": {},
   "outputs": [],
   "source": []
  }
 ],
 "metadata": {
  "kernelspec": {
   "display_name": "Python 3",
   "language": "python",
   "name": "python3"
  },
  "language_info": {
   "codemirror_mode": {
    "name": "ipython",
    "version": 3
   },
   "file_extension": ".py",
   "mimetype": "text/x-python",
   "name": "python",
   "nbconvert_exporter": "python",
   "pygments_lexer": "ipython3",
   "version": "3.8.10"
  }
 },
 "nbformat": 4,
 "nbformat_minor": 5
}
